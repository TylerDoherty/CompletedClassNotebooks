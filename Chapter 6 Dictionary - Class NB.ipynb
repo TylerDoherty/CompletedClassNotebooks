{
 "cells": [
  {
   "cell_type": "markdown",
   "id": "73943399",
   "metadata": {},
   "source": [
    "# 6. Working with Dictionaries\n",
    "* A dictionary in Python is a collection of key-value pairs. \n",
    "* Each key is connected to a value, and you can use a key to access the value associated with that key.\n",
    "* A key’s value can be a number, a string, a list, or even another dictionary.\n",
    "\n",
    "* `Key` is the unique identifier to find data and the `value` is the data\n",
    "\n",
    "* A dictionary is a collection which is ordered*, changeable and does not allow duplicates.\n",
    "\n",
    "* Unlike strings, lists, and tuples, **dictionaries are not sequences** - the data are not stored in order. \n",
    "* List can be represented by [ ], Tuple can be represented by ( ), Dictionary  can be represented by { }"
   ]
  },
  {
   "cell_type": "code",
   "execution_count": 31,
   "id": "05999d3a",
   "metadata": {},
   "outputs": [
    {
     "data": {
      "text/plain": [
       "dict"
      ]
     },
     "execution_count": 31,
     "metadata": {},
     "output_type": "execute_result"
    }
   ],
   "source": [
    "# empty dictonary \n",
    "Dict={}\n",
    "type(Dict)"
   ]
  },
  {
   "cell_type": "code",
   "execution_count": 32,
   "id": "88e3e9ba",
   "metadata": {},
   "outputs": [
    {
     "data": {
      "text/plain": [
       "dict"
      ]
     },
     "execution_count": 32,
     "metadata": {},
     "output_type": "execute_result"
    }
   ],
   "source": [
    "Dict1=dict()\n",
    "type(Dict1)"
   ]
  },
  {
   "cell_type": "code",
   "execution_count": 33,
   "id": "5d25b2cb",
   "metadata": {},
   "outputs": [],
   "source": [
    "data={'Alabama':'Montgomery',\n",
    "    'Arizona':'Pheonix',\n",
    "     'Georgia':'Atlanta',\n",
    "     'Kentucky':'Frankfort',\n",
    "     'Ohio':'Colombus'}"
   ]
  },
  {
   "cell_type": "markdown",
   "id": "4be8c616",
   "metadata": {},
   "source": [
    "### Access `values` from a dictionary using key\n",
    "* Key and values can be any data types\n",
    "* Accessing key value not present in dictionary generated KeyError"
   ]
  },
  {
   "cell_type": "code",
   "execution_count": 34,
   "id": "aab3f949",
   "metadata": {},
   "outputs": [
    {
     "data": {
      "text/plain": [
       "'Colombus'"
      ]
     },
     "execution_count": 34,
     "metadata": {},
     "output_type": "execute_result"
    }
   ],
   "source": [
    "data['Ohio']"
   ]
  },
  {
   "cell_type": "code",
   "execution_count": 35,
   "id": "fe9e3886",
   "metadata": {},
   "outputs": [
    {
     "data": {
      "text/plain": [
       "'Atlanta'"
      ]
     },
     "execution_count": 35,
     "metadata": {},
     "output_type": "execute_result"
    }
   ],
   "source": [
    "data['Georgia']"
   ]
  },
  {
   "cell_type": "code",
   "execution_count": 36,
   "id": "e4eb565d",
   "metadata": {},
   "outputs": [],
   "source": [
    "# key error because thsis is not in the list\n",
    "# data['New york']"
   ]
  },
  {
   "cell_type": "code",
   "execution_count": null,
   "id": "c7dae653",
   "metadata": {},
   "outputs": [],
   "source": []
  },
  {
   "cell_type": "markdown",
   "id": "bc6af6fc",
   "metadata": {},
   "source": [
    "### Update elements of a dictionary and add new elements"
   ]
  },
  {
   "cell_type": "code",
   "execution_count": 37,
   "id": "f62f227f",
   "metadata": {},
   "outputs": [],
   "source": [
    "day={1: 'Monday',\n",
    "    2: 'Tuesday',\n",
    "    4: ('Thursday','Friday'),\n",
    "    5:['Saturday','Sunday']}"
   ]
  },
  {
   "cell_type": "code",
   "execution_count": 38,
   "id": "560dd19f",
   "metadata": {},
   "outputs": [
    {
     "data": {
      "text/plain": [
       "'Thursday'"
      ]
     },
     "execution_count": 38,
     "metadata": {},
     "output_type": "execute_result"
    }
   ],
   "source": [
    "# Thursday\n",
    "day[4][0]   # day[key][index]"
   ]
  },
  {
   "cell_type": "code",
   "execution_count": 39,
   "id": "7f07b100",
   "metadata": {},
   "outputs": [
    {
     "data": {
      "text/plain": [
       "'Sunday'"
      ]
     },
     "execution_count": 39,
     "metadata": {},
     "output_type": "execute_result"
    }
   ],
   "source": [
    "# Sunday\n",
    "day[5][1]"
   ]
  },
  {
   "cell_type": "code",
   "execution_count": 40,
   "id": "e30ad316",
   "metadata": {},
   "outputs": [],
   "source": [
    "day[3]='Wednesday'"
   ]
  },
  {
   "cell_type": "code",
   "execution_count": 41,
   "id": "e3fa5fb7",
   "metadata": {},
   "outputs": [
    {
     "data": {
      "text/plain": [
       "{1: 'Monday',\n",
       " 2: 'Tuesday',\n",
       " 4: ('Thursday', 'Friday'),\n",
       " 5: ['Saturday', 'Sunday'],\n",
       " 3: 'Wednesday'}"
      ]
     },
     "execution_count": 41,
     "metadata": {},
     "output_type": "execute_result"
    }
   ],
   "source": [
    "day"
   ]
  },
  {
   "cell_type": "code",
   "execution_count": 42,
   "id": "835f7bfe",
   "metadata": {},
   "outputs": [
    {
     "data": {
      "text/plain": [
       "{1: 'Monday',\n",
       " 2: 'Tuesday',\n",
       " 4: ('Thursday', 'Friday'),\n",
       " 5: ['Holiday', 'Sunday'],\n",
       " 3: 'Wednesday'}"
      ]
     },
     "execution_count": 42,
     "metadata": {},
     "output_type": "execute_result"
    }
   ],
   "source": [
    "# update saturday to holiday\n",
    "day[5][0]='Holiday' # access then assign\n",
    "day"
   ]
  },
  {
   "cell_type": "code",
   "execution_count": 43,
   "id": "53d73c06",
   "metadata": {},
   "outputs": [
    {
     "data": {
      "text/plain": [
       "{1: 'Monday',\n",
       " 2: 'Tuesday',\n",
       " 4: ('Thursday', 'Friday'),\n",
       " 5: ['Holiday', 'Holiday'],\n",
       " 3: 'Wednesday'}"
      ]
     },
     "execution_count": 43,
     "metadata": {},
     "output_type": "execute_result"
    }
   ],
   "source": [
    "day[5][1]='Holiday'\n",
    "day"
   ]
  },
  {
   "cell_type": "code",
   "execution_count": 44,
   "id": "41e206dc",
   "metadata": {},
   "outputs": [],
   "source": [
    "# update thursday to holiday\n",
    "#day[4][0]='Holiday' # can not update a tuple\n",
    "#day"
   ]
  },
  {
   "cell_type": "markdown",
   "id": "f7bb990f",
   "metadata": {},
   "source": [
    "### `get` and `update` methods\n",
    "- get use to access a value from dictonary\n",
    "- update the disctonary with new value also update the old value"
   ]
  },
  {
   "cell_type": "code",
   "execution_count": 45,
   "id": "071c6f12",
   "metadata": {},
   "outputs": [
    {
     "data": {
      "text/plain": [
       "'Wednesday'"
      ]
     },
     "execution_count": 45,
     "metadata": {},
     "output_type": "execute_result"
    }
   ],
   "source": [
    "# return wednesday\n",
    "day.get(3)"
   ]
  },
  {
   "cell_type": "code",
   "execution_count": 46,
   "id": "10cd3add",
   "metadata": {},
   "outputs": [
    {
     "data": {
      "text/plain": [
       "'Monday'"
      ]
     },
     "execution_count": 46,
     "metadata": {},
     "output_type": "execute_result"
    }
   ],
   "source": [
    "# monday\n",
    "day.get(1)"
   ]
  },
  {
   "cell_type": "code",
   "execution_count": 47,
   "id": "afdf81cb",
   "metadata": {},
   "outputs": [],
   "source": [
    "day.get(6) # not generating an error if the key is not present"
   ]
  },
  {
   "cell_type": "code",
   "execution_count": 48,
   "id": "c99acf1a",
   "metadata": {},
   "outputs": [],
   "source": [
    "#day[6]"
   ]
  },
  {
   "cell_type": "code",
   "execution_count": 49,
   "id": "ebc3b904",
   "metadata": {},
   "outputs": [],
   "source": [
    "data={'Alabama':'Montgomery',\n",
    "    'Arizona':'Pheonix',\n",
    "     'Georgia':'Atlanta',\n",
    "     'Kentucky':'Frankfort',\n",
    "     'Ohio':'Colombus'}"
   ]
  },
  {
   "cell_type": "code",
   "execution_count": 50,
   "id": "fc64b2ed",
   "metadata": {},
   "outputs": [
    {
     "data": {
      "text/plain": [
       "{'Alabama': 'Montgomery',\n",
       " 'Arizona': 'Pheonix',\n",
       " 'Georgia': 'Atlanta',\n",
       " 'Kentucky': 'Louisville',\n",
       " 'Ohio': 'Colombus'}"
      ]
     },
     "execution_count": 50,
     "metadata": {},
     "output_type": "execute_result"
    }
   ],
   "source": [
    "# update old entry\n",
    "data.update({'Kentucky':'Louisville'})\n",
    "data"
   ]
  },
  {
   "cell_type": "code",
   "execution_count": 51,
   "id": "e3993e4c",
   "metadata": {},
   "outputs": [
    {
     "data": {
      "text/plain": [
       "{'Alabama': 'Montgomery',\n",
       " 'Arizona': 'Pheonix',\n",
       " 'Georgia': 'Atlanta',\n",
       " 'Kentucky': 'Louisville',\n",
       " 'Ohio': 'Colombus',\n",
       " 'Louisiana': 'Baton Rouge'}"
      ]
     },
     "execution_count": 51,
     "metadata": {},
     "output_type": "execute_result"
    }
   ],
   "source": [
    "# new entry\n",
    "data.update({'Louisiana':'Baton Rouge'})\n",
    "data"
   ]
  },
  {
   "cell_type": "code",
   "execution_count": 52,
   "id": "ff458624",
   "metadata": {},
   "outputs": [
    {
     "data": {
      "text/plain": [
       "{'Alabama': 'Montgomery',\n",
       " 'Arizona': 'Pheonix',\n",
       " 'Georgia': 'Atlanta',\n",
       " 'Kentucky': 'Frankfort',\n",
       " 'Ohio': 'Colombus',\n",
       " 'Louisiana': 'Baton Rouge',\n",
       " 'Missouri': 'Jefferson City'}"
      ]
     },
     "execution_count": 52,
     "metadata": {},
     "output_type": "execute_result"
    }
   ],
   "source": [
    "data.update({'Missouri':'Jefferson City','Kentucky':'Frankfort'})\n",
    "data"
   ]
  },
  {
   "cell_type": "markdown",
   "id": "18536626",
   "metadata": {},
   "source": [
    "### Delete dictionary items using `del` and `pop`"
   ]
  },
  {
   "cell_type": "code",
   "execution_count": 53,
   "id": "b4092d0a",
   "metadata": {},
   "outputs": [
    {
     "data": {
      "text/plain": [
       "{'Arizona': 'Pheonix',\n",
       " 'Georgia': 'Atlanta',\n",
       " 'Kentucky': 'Frankfort',\n",
       " 'Ohio': 'Colombus',\n",
       " 'Louisiana': 'Baton Rouge',\n",
       " 'Missouri': 'Jefferson City'}"
      ]
     },
     "execution_count": 53,
     "metadata": {},
     "output_type": "execute_result"
    }
   ],
   "source": [
    "# delete alabama using del mothod\n",
    "del data['Alabama']\n",
    "data"
   ]
  },
  {
   "cell_type": "code",
   "execution_count": 56,
   "id": "761d5574",
   "metadata": {},
   "outputs": [
    {
     "data": {
      "text/plain": [
       "'Colombus'"
      ]
     },
     "execution_count": 56,
     "metadata": {},
     "output_type": "execute_result"
    }
   ],
   "source": [
    "# delete ohio using pop\n",
    "data.pop('Ohio')"
   ]
  },
  {
   "cell_type": "code",
   "execution_count": 57,
   "id": "37d6f5eb",
   "metadata": {},
   "outputs": [],
   "source": [
    "# delete the dictonary\n",
    "del data"
   ]
  },
  {
   "cell_type": "code",
   "execution_count": 58,
   "id": "5fe4fce1",
   "metadata": {},
   "outputs": [],
   "source": [
    "# name error as the dictonary not present anymore\n",
    "#data"
   ]
  },
  {
   "cell_type": "markdown",
   "id": "610aae76",
   "metadata": {},
   "source": [
    "### Number of elements in the dictionary and extracting `keys()`, `values()`, `items()`"
   ]
  },
  {
   "cell_type": "code",
   "execution_count": 59,
   "id": "f13bd3ba",
   "metadata": {},
   "outputs": [],
   "source": [
    "data={'Alabama':'Montgomery',\n",
    "    'Arizona':'Pheonix',\n",
    "     'Georgia':'Atlanta',\n",
    "     'Kentucky':'Frankfort',\n",
    "     'Ohio':'Colombus'}"
   ]
  },
  {
   "cell_type": "code",
   "execution_count": 61,
   "id": "1d31365f",
   "metadata": {},
   "outputs": [
    {
     "data": {
      "text/plain": [
       "dict_keys(['Alabama', 'Arizona', 'Georgia', 'Kentucky', 'Ohio'])"
      ]
     },
     "execution_count": 61,
     "metadata": {},
     "output_type": "execute_result"
    }
   ],
   "source": [
    "data.keys()"
   ]
  },
  {
   "cell_type": "code",
   "execution_count": 62,
   "id": "0db183c4",
   "metadata": {},
   "outputs": [
    {
     "data": {
      "text/plain": [
       "dict_values(['Montgomery', 'Pheonix', 'Atlanta', 'Frankfort', 'Colombus'])"
      ]
     },
     "execution_count": 62,
     "metadata": {},
     "output_type": "execute_result"
    }
   ],
   "source": [
    "data.values()"
   ]
  },
  {
   "cell_type": "code",
   "execution_count": 64,
   "id": "a1c19204",
   "metadata": {},
   "outputs": [
    {
     "data": {
      "text/plain": [
       "dict_items([('Alabama', 'Montgomery'), ('Arizona', 'Pheonix'), ('Georgia', 'Atlanta'), ('Kentucky', 'Frankfort'), ('Ohio', 'Colombus')])"
      ]
     },
     "execution_count": 64,
     "metadata": {},
     "output_type": "execute_result"
    }
   ],
   "source": [
    "data.items()"
   ]
  },
  {
   "cell_type": "markdown",
   "id": "ab9e78f2",
   "metadata": {},
   "source": [
    "### Loop through a dictionary for"
   ]
  },
  {
   "cell_type": "code",
   "execution_count": 67,
   "id": "941bf04e",
   "metadata": {},
   "outputs": [
    {
     "name": "stdout",
     "output_type": "stream",
     "text": [
      "Alabama\n",
      "<class 'str'>\n",
      "Arizona\n",
      "<class 'str'>\n",
      "Georgia\n",
      "<class 'str'>\n",
      "Kentucky\n",
      "<class 'str'>\n",
      "Ohio\n",
      "<class 'str'>\n"
     ]
    }
   ],
   "source": [
    "# unpack the dictonary keys\n",
    "for i in data.keys():\n",
    "    print(i)\n",
    "    print(type(i))"
   ]
  },
  {
   "cell_type": "code",
   "execution_count": 68,
   "id": "fe239e39",
   "metadata": {},
   "outputs": [
    {
     "name": "stdout",
     "output_type": "stream",
     "text": [
      "Montgomery\n",
      "Pheonix\n",
      "Atlanta\n",
      "Frankfort\n",
      "Colombus\n"
     ]
    }
   ],
   "source": [
    "# unpack the disctonary values\n",
    "for j in data.values():\n",
    "    print(j)"
   ]
  },
  {
   "cell_type": "code",
   "execution_count": 69,
   "id": "c0746d46",
   "metadata": {},
   "outputs": [
    {
     "name": "stdout",
     "output_type": "stream",
     "text": [
      "('Alabama', 'Montgomery')\n",
      "<class 'tuple'>\n",
      "('Arizona', 'Pheonix')\n",
      "<class 'tuple'>\n",
      "('Georgia', 'Atlanta')\n",
      "<class 'tuple'>\n",
      "('Kentucky', 'Frankfort')\n",
      "<class 'tuple'>\n",
      "('Ohio', 'Colombus')\n",
      "<class 'tuple'>\n"
     ]
    }
   ],
   "source": [
    "# Dictonary items\n",
    "for k in data.items():\n",
    "    print(k)\n",
    "    print(type(k))"
   ]
  },
  {
   "cell_type": "code",
   "execution_count": 71,
   "id": "e07995b1",
   "metadata": {},
   "outputs": [
    {
     "name": "stdout",
     "output_type": "stream",
     "text": [
      "state:  Alabama\n",
      "capital:  Montgomery\n",
      "state:  Arizona\n",
      "capital:  Pheonix\n",
      "state:  Georgia\n",
      "capital:  Atlanta\n",
      "state:  Kentucky\n",
      "capital:  Frankfort\n",
      "state:  Ohio\n",
      "capital:  Colombus\n"
     ]
    }
   ],
   "source": [
    "# unpack dictonary items\n",
    "for j,k in data.items():\n",
    "    print(\"state: \", j)\n",
    "    print(\"capital: \", k)"
   ]
  },
  {
   "cell_type": "markdown",
   "id": "82ec7aff",
   "metadata": {},
   "source": [
    "### Convert dictionary to lists using `list()` function"
   ]
  },
  {
   "cell_type": "code",
   "execution_count": 73,
   "id": "afcede6e",
   "metadata": {},
   "outputs": [
    {
     "data": {
      "text/plain": [
       "['Alabama', 'Arizona', 'Georgia', 'Kentucky', 'Ohio']"
      ]
     },
     "execution_count": 73,
     "metadata": {},
     "output_type": "execute_result"
    }
   ],
   "source": [
    "# dictonary keys to a list\n",
    "list(data.keys())"
   ]
  },
  {
   "cell_type": "code",
   "execution_count": 74,
   "id": "b85f9771",
   "metadata": {},
   "outputs": [
    {
     "data": {
      "text/plain": [
       "['Montgomery', 'Pheonix', 'Atlanta', 'Frankfort', 'Colombus']"
      ]
     },
     "execution_count": 74,
     "metadata": {},
     "output_type": "execute_result"
    }
   ],
   "source": [
    "# dictoonary values to a list\n",
    "list(data.values())"
   ]
  },
  {
   "cell_type": "code",
   "execution_count": null,
   "id": "1513a1e3",
   "metadata": {},
   "outputs": [],
   "source": []
  },
  {
   "cell_type": "code",
   "execution_count": null,
   "id": "59ec3714",
   "metadata": {},
   "outputs": [],
   "source": []
  },
  {
   "cell_type": "markdown",
   "id": "d13131c6",
   "metadata": {},
   "source": [
    "### A List in a Dictionary: how to unpack all of the entries"
   ]
  },
  {
   "cell_type": "code",
   "execution_count": 76,
   "id": "cd81cd95",
   "metadata": {},
   "outputs": [],
   "source": [
    "fav_language={'jen':['python', 'ruby'],'sarah':['C'],'edward': ['ruby','java'],'phil' : ['python', 'java']}\n",
    "                        "
   ]
  },
  {
   "cell_type": "code",
   "execution_count": 77,
   "id": "1d594da7",
   "metadata": {},
   "outputs": [
    {
     "data": {
      "text/plain": [
       "{'jen': ['python', 'ruby'],\n",
       " 'sarah': ['C'],\n",
       " 'edward': ['ruby', 'java'],\n",
       " 'phil': ['python', 'java']}"
      ]
     },
     "execution_count": 77,
     "metadata": {},
     "output_type": "execute_result"
    }
   ],
   "source": [
    "fav_language"
   ]
  },
  {
   "cell_type": "code",
   "execution_count": 79,
   "id": "e9a96ec4",
   "metadata": {},
   "outputs": [
    {
     "name": "stdout",
     "output_type": "stream",
     "text": [
      "The name is : Jen. The favourite languages are: \n",
      "\t\t\t\t\t\t python\n",
      "\t\t\t\t\t\t ruby\n",
      "The name is : Sarah. The favourite languages are: \n",
      "\t\t\t\t\t\t C\n",
      "The name is : Edward. The favourite languages are: \n",
      "\t\t\t\t\t\t ruby\n",
      "\t\t\t\t\t\t java\n",
      "The name is : Phil. The favourite languages are: \n",
      "\t\t\t\t\t\t python\n",
      "\t\t\t\t\t\t java\n"
     ]
    }
   ],
   "source": [
    "for name, subjects in fav_language.items():\n",
    "    print(f\"The name is : {name.title()}. The favourite languages are: \")\n",
    "    \n",
    "    for i in subjects:\n",
    "        print(\"\\t\\t\\t\\t\\t\\t\",i)"
   ]
  },
  {
   "cell_type": "code",
   "execution_count": null,
   "id": "9796242d",
   "metadata": {},
   "outputs": [],
   "source": []
  },
  {
   "cell_type": "markdown",
   "id": "7543bcaf",
   "metadata": {},
   "source": [
    "###  A Dictionary in a Dictionary"
   ]
  },
  {
   "cell_type": "code",
   "execution_count": 84,
   "id": "5716262d",
   "metadata": {},
   "outputs": [],
   "source": [
    "user={'est':{\n",
    "    'first': 'albert',\n",
    "    'last' : 'einstein',\n",
    "    'location' : 'prinston'\n",
    "},\n",
    "      'mcurie':{\n",
    "          'first' : 'marie',\n",
    "          'last' : 'curie',\n",
    "          'location' : 'paris'\n",
    "      }\n",
    "     }"
   ]
  },
  {
   "cell_type": "code",
   "execution_count": 82,
   "id": "7aaca1c4",
   "metadata": {},
   "outputs": [
    {
     "data": {
      "text/plain": [
       "{'einstein': {'first': 'albert', 'last': 'einstein', 'location': 'prinston'},\n",
       " 'mcurie': {'first': 'marie', 'last': 'curie', 'location': 'paris'}}"
      ]
     },
     "execution_count": 82,
     "metadata": {},
     "output_type": "execute_result"
    }
   ],
   "source": [
    "user"
   ]
  },
  {
   "cell_type": "code",
   "execution_count": 85,
   "id": "df9d2a9e",
   "metadata": {},
   "outputs": [
    {
     "data": {
      "text/plain": [
       "'albert'"
      ]
     },
     "execution_count": 85,
     "metadata": {},
     "output_type": "execute_result"
    }
   ],
   "source": [
    "#albert\n",
    "user['est']['first']"
   ]
  },
  {
   "cell_type": "code",
   "execution_count": 86,
   "id": "617ade30",
   "metadata": {},
   "outputs": [
    {
     "data": {
      "text/plain": [
       "'paris'"
      ]
     },
     "execution_count": 86,
     "metadata": {},
     "output_type": "execute_result"
    }
   ],
   "source": [
    "# paris\n",
    "user['mcurie']['location']"
   ]
  },
  {
   "cell_type": "code",
   "execution_count": 92,
   "id": "d08ec521",
   "metadata": {},
   "outputs": [
    {
     "name": "stdout",
     "output_type": "stream",
     "text": [
      "Username: est\n",
      "full name:  albert einstein\n",
      "location:  prinston\n",
      "Username: mcurie\n",
      "full name:  marie curie\n",
      "location:  paris\n"
     ]
    }
   ],
   "source": [
    "for username, user_info in user.items():\n",
    "    print(\"Username:\",username)\n",
    "    #print(user_info)\n",
    "    full_name=user_info['first']+\" \" +user_info['last']\n",
    "    print(\"full name: \",full_name)\n",
    "    print(\"location: \",user_info['location'] )"
   ]
  },
  {
   "cell_type": "code",
   "execution_count": null,
   "id": "a6bebae8",
   "metadata": {},
   "outputs": [],
   "source": []
  }
 ],
 "metadata": {
  "kernelspec": {
   "display_name": "Python 3 (ipykernel)",
   "language": "python",
   "name": "python3"
  },
  "language_info": {
   "codemirror_mode": {
    "name": "ipython",
    "version": 3
   },
   "file_extension": ".py",
   "mimetype": "text/x-python",
   "name": "python",
   "nbconvert_exporter": "python",
   "pygments_lexer": "ipython3",
   "version": "3.11.4"
  }
 },
 "nbformat": 4,
 "nbformat_minor": 5
}
