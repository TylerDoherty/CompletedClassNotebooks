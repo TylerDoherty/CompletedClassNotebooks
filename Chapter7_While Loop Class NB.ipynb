{
 "cells": [
  {
   "cell_type": "markdown",
   "metadata": {},
   "source": [
    "# While Loop\n",
    "* The for loop takes a collection of items and executes a block of code once for each item in the collection. \n",
    "* In contrast, the while loop runs as long as, or while, a certain condition is true."
   ]
  },
  {
   "cell_type": "markdown",
   "metadata": {},
   "source": [
    "## The while Loop in Action\n",
    "You can use a while loop to count up through a series of numbers. For\n",
    "example, the following while loop counts from 1 to 5:\n"
   ]
  },
  {
   "cell_type": "code",
   "execution_count": 1,
   "metadata": {},
   "outputs": [
    {
     "name": "stdout",
     "output_type": "stream",
     "text": [
      "1\n",
      "2\n",
      "3\n",
      "4\n",
      "5\n"
     ]
    }
   ],
   "source": [
    "# forloop to print number 1-5\n",
    "for k in range (1,6):\n",
    "    print(k)"
   ]
  },
  {
   "cell_type": "code",
   "execution_count": 2,
   "metadata": {},
   "outputs": [
    {
     "name": "stdout",
     "output_type": "stream",
     "text": [
      "1\n",
      "2\n",
      "3\n",
      "4\n",
      "5\n"
     ]
    }
   ],
   "source": [
    "# initalize\n",
    "j=1\n",
    "# condition check\n",
    "while j<=5:\n",
    "    print(j)\n",
    "    # increment or it will generate an infinite loop\n",
    "    j=j+1"
   ]
  },
  {
   "cell_type": "code",
   "execution_count": 4,
   "metadata": {},
   "outputs": [
    {
     "name": "stdout",
     "output_type": "stream",
     "text": [
      "10 11 12 13 14 15 16 17 18 19 20 21 22 23 24 25 26 27 28 29 30 31 32 33 34 35 36 37 38 39 40 41 42 43 44 45 46 47 48 49 50 "
     ]
    }
   ],
   "source": [
    "# print 10-50 using while loop\n",
    "j=10\n",
    "while j<=50:\n",
    "    print(j, end=\" \")\n",
    "    j+=1 # j=j+1"
   ]
  },
  {
   "cell_type": "code",
   "execution_count": 6,
   "metadata": {},
   "outputs": [
    {
     "name": "stdout",
     "output_type": "stream",
     "text": [
      "10 12 14 16 18 20 22 24 26 28 30 32 34 36 38 40 42 44 46 48 50 "
     ]
    }
   ],
   "source": [
    "j=10\n",
    "while j<=50:\n",
    "    if j%2==0:\n",
    "        print(j, end=\" \")\n",
    "    j+=1 "
   ]
  },
  {
   "cell_type": "markdown",
   "metadata": {},
   "source": [
    "## print all the odd numbers between 15-30 using y loop and for loop\n"
   ]
  },
  {
   "cell_type": "code",
   "execution_count": 7,
   "metadata": {},
   "outputs": [
    {
     "name": "stdout",
     "output_type": "stream",
     "text": [
      "15 17 19 21 23 25 27 29 "
     ]
    }
   ],
   "source": [
    "j=15\n",
    "while j<=30:\n",
    "    if j%2==1:\n",
    "        print(j, end=\" \")\n",
    "    j+=1 "
   ]
  },
  {
   "cell_type": "code",
   "execution_count": 10,
   "metadata": {},
   "outputs": [
    {
     "name": "stdout",
     "output_type": "stream",
     "text": [
      "15 17 19 21 23 25 27 29 "
     ]
    }
   ],
   "source": [
    "for j in range(15,31):\n",
    "    if j%2==1:\n",
    "        print(j, end=\" \")"
   ]
  },
  {
   "cell_type": "code",
   "execution_count": 12,
   "metadata": {},
   "outputs": [
    {
     "name": "stdout",
     "output_type": "stream",
     "text": [
      "Hello Hello Hello Hello Hello Hello Hello Hello Hello Hello "
     ]
    }
   ],
   "source": [
    "# print hello 10 times using for loop and while loop\n",
    "for i in range(10):\n",
    "    print(\"Hello\", end= \" \")"
   ]
  },
  {
   "cell_type": "code",
   "execution_count": 13,
   "metadata": {},
   "outputs": [
    {
     "name": "stdout",
     "output_type": "stream",
     "text": [
      "0 hello\n",
      "1 hello\n",
      "2 hello\n",
      "3 hello\n",
      "4 hello\n",
      "5 hello\n",
      "6 hello\n",
      "7 hello\n",
      "8 hello\n",
      "9 hello\n",
      "10 hello\n"
     ]
    }
   ],
   "source": [
    "i=0\n",
    "while i<=10:\n",
    "    print (i,\"hello\")\n",
    "    i+=1"
   ]
  },
  {
   "cell_type": "markdown",
   "metadata": {},
   "source": [
    "### Write a code to print the numbers between 10 to 30 which are dicisible by 5\n",
    " - while loop\n",
    " - for loop"
   ]
  },
  {
   "cell_type": "code",
   "execution_count": 2,
   "metadata": {},
   "outputs": [
    {
     "name": "stdout",
     "output_type": "stream",
     "text": [
      "10\n",
      "15\n",
      "20\n",
      "25\n"
     ]
    }
   ],
   "source": [
    "for i in range(10,31):\n",
    "    if i%5==0:\n",
    "        print(i)"
   ]
  },
  {
   "cell_type": "code",
   "execution_count": 4,
   "metadata": {},
   "outputs": [
    {
     "name": "stdout",
     "output_type": "stream",
     "text": [
      "10\n",
      "15\n",
      "20\n",
      "25\n",
      "30\n"
     ]
    }
   ],
   "source": [
    "i = 10\n",
    "while i<31:\n",
    "    if i%5==0:\n",
    "        print(i)\n",
    "    i+=1"
   ]
  },
  {
   "cell_type": "markdown",
   "metadata": {},
   "source": [
    "## Letting the User Choose When to Quit"
   ]
  },
  {
   "cell_type": "code",
   "execution_count": 11,
   "metadata": {},
   "outputs": [
    {
     "name": "stdout",
     "output_type": "stream",
     "text": [
      "\n",
      "Tell me anything ans I will repeat it back to you. Enter 'quit' to end the loophi\n",
      "The user input is  hi\n",
      "\n",
      "Tell me anything ans I will repeat it back to you. Enter 'quit' to end the loopquit\n",
      "The user input is  quit\n"
     ]
    }
   ],
   "source": [
    "prompt=\"\\nTell me anything ans I will repeat it back to you. Enter \\'quit' to end the loop\"\n",
    "message=\" \" # inatalize \n",
    "while message != 'quit':\n",
    "    message=input(prompt)\n",
    "    print(\"The user input is \",message)"
   ]
  },
  {
   "cell_type": "markdown",
   "metadata": {},
   "source": [
    "## A Flag"
   ]
  },
  {
   "cell_type": "code",
   "execution_count": 13,
   "metadata": {},
   "outputs": [
    {
     "name": "stdout",
     "output_type": "stream",
     "text": [
      "\n",
      "Tell me anything ans I will repeat it back to you. Enter 'quit' to end the loopquit\n"
     ]
    }
   ],
   "source": [
    "prompt=\"\\nTell me anything ans I will repeat it back to you. Enter \\'quit' to end the loop\"\n",
    "# flag\n",
    "message=\" \"\n",
    "active=True\n",
    "while active:\n",
    "    message=input(prompt)\n",
    "    if message=='quit':\n",
    "        active=False # flag turned off\n",
    "    else:\n",
    "        print(message)\n",
    "    "
   ]
  },
  {
   "cell_type": "markdown",
   "metadata": {
    "slideshow": {
     "slide_type": "subslide"
    }
   },
   "source": [
    "### For a program that should run only as long as many conditions are true, you can define one variable that determines whether or not the entire program is active. This variable, called a `flag`, acts as a signal to the program."
   ]
  },
  {
   "cell_type": "code",
   "execution_count": null,
   "metadata": {},
   "outputs": [],
   "source": []
  },
  {
   "cell_type": "code",
   "execution_count": null,
   "metadata": {},
   "outputs": [],
   "source": []
  },
  {
   "cell_type": "markdown",
   "metadata": {},
   "source": [
    "## Using break to Exit a Loop\n",
    "To exit a while loop immediately without running any remaining code in the\n",
    "loop, regardless of the results of any conditional test, use the break statement."
   ]
  },
  {
   "cell_type": "code",
   "execution_count": 15,
   "metadata": {},
   "outputs": [
    {
     "name": "stdout",
     "output_type": "stream",
     "text": [
      "\n",
      "Tell me anything ans I will repeat it back to you. Enter 'quit' to end the looprobert\n",
      "robert\n",
      "\n",
      "Tell me anything ans I will repeat it back to you. Enter 'quit' to end the loopquit\n"
     ]
    }
   ],
   "source": [
    "prompt=\"\\nTell me anything ans I will repeat it back to you. Enter \\'quit' to end the loop\"\n",
    "friends=\" \"\n",
    "active=True\n",
    "while active:\n",
    "    friends=input(prompt)\n",
    "    if friends=='quit':\n",
    "        break\n",
    "    else:\n",
    "        print(friends)"
   ]
  },
  {
   "cell_type": "code",
   "execution_count": null,
   "metadata": {},
   "outputs": [],
   "source": []
  },
  {
   "cell_type": "markdown",
   "metadata": {},
   "source": [
    "### Guess the number"
   ]
  },
  {
   "cell_type": "code",
   "execution_count": 19,
   "metadata": {},
   "outputs": [
    {
     "name": "stdout",
     "output_type": "stream",
     "text": [
      "\n",
      " Guess a number between 1 to 10 5\n",
      "Correct Guess\n"
     ]
    }
   ],
   "source": [
    "prompt=\"\\n Guess a number between 1 to 10 \"\n",
    "number=0\n",
    "active= True\n",
    "while active:\n",
    "    number=int(input(prompt))\n",
    "    if number==5:\n",
    "        print(\"Correct Guess\")\n",
    "        break\n",
    "    else:\n",
    "        print(number)\n",
    "        print(\"Guess again\")"
   ]
  },
  {
   "cell_type": "code",
   "execution_count": null,
   "metadata": {},
   "outputs": [],
   "source": []
  },
  {
   "cell_type": "markdown",
   "metadata": {},
   "source": [
    "### Guess the number with proper direction"
   ]
  },
  {
   "cell_type": "code",
   "execution_count": 24,
   "metadata": {},
   "outputs": [
    {
     "name": "stdout",
     "output_type": "stream",
     "text": [
      "\n",
      " guess a number between 1 to 10: 20\n",
      "Not a correct number guess again\n",
      "\n",
      " guess a number between 1 to 10: 5\n",
      "You are correct in your guess\n"
     ]
    }
   ],
   "source": [
    "prompt=\"\\n guess a number between 1 to 10: \"\n",
    "active=True\n",
    "number=0\n",
    "while active:\n",
    "    number=int(input(prompt))\n",
    "    if number==5:\n",
    "        print(\"You are correct in your guess\")\n",
    "        break\n",
    "    elif number<5:\n",
    "        print(\"Guess the number bigger than your current guess\")\n",
    "    elif number>5 and number<=10:\n",
    "        print(\"Guess the number lower than your current guess\")\n",
    "    else:\n",
    "        print(\"Not a correct number guess again\")"
   ]
  },
  {
   "cell_type": "markdown",
   "metadata": {},
   "source": [
    "### Break with for loop"
   ]
  },
  {
   "cell_type": "code",
   "execution_count": 25,
   "metadata": {},
   "outputs": [
    {
     "name": "stdout",
     "output_type": "stream",
     "text": [
      "10 11 12 13 14 "
     ]
    }
   ],
   "source": [
    "# print the numbers between 10 to 30 \n",
    "# break the loop at the number 15\n",
    "for i in range (10,30):\n",
    "    if i==15:\n",
    "        break\n",
    "    print(i, end= \" \")"
   ]
  },
  {
   "cell_type": "markdown",
   "metadata": {},
   "source": [
    "### Using continue in a Loop\n",
    "- Rather than breaking out of a loop entirely without executing the rest of its code, \n",
    "- you can use the continue statement to return to the beginning of the loop based on the result of a conditional test. \n",
    "- For example, consider a loop that counts from 1 to 10 but prints only the odd numbers in that range:"
   ]
  },
  {
   "cell_type": "code",
   "execution_count": 26,
   "metadata": {},
   "outputs": [
    {
     "name": "stdout",
     "output_type": "stream",
     "text": [
      "10 11 12 13 14 16 17 18 19 20 21 22 23 24 25 26 27 28 29 "
     ]
    }
   ],
   "source": [
    "for i in range (10,30):\n",
    "    if i==15:\n",
    "        continue\n",
    "    print(i, end= \" \")"
   ]
  },
  {
   "cell_type": "code",
   "execution_count": 28,
   "metadata": {},
   "outputs": [
    {
     "name": "stdout",
     "output_type": "stream",
     "text": [
      "1 3 5 7 9 "
     ]
    }
   ],
   "source": [
    "# - For example, consider a loop that counts from 1 to 10 but prints only the odd numbers in that range:\n",
    "for i in range (1,11):\n",
    "    if i%2==0:\n",
    "        continue\n",
    "    print(i, end= \" \")"
   ]
  },
  {
   "cell_type": "code",
   "execution_count": 1,
   "metadata": {},
   "outputs": [
    {
     "name": "stdout",
     "output_type": "stream",
     "text": [
      "1 "
     ]
    },
    {
     "ename": "KeyboardInterrupt",
     "evalue": "",
     "output_type": "error",
     "traceback": [
      "\u001b[0;31m---------------------------------------------------------------------------\u001b[0m",
      "\u001b[0;31mKeyboardInterrupt\u001b[0m                         Traceback (most recent call last)",
      "Cell \u001b[0;32mIn[1], line 4\u001b[0m\n\u001b[1;32m      2\u001b[0m \u001b[38;5;28;01mwhile\u001b[39;00m i\u001b[38;5;241m<\u001b[39m\u001b[38;5;241m11\u001b[39m:\n\u001b[1;32m      3\u001b[0m     \u001b[38;5;28;01mif\u001b[39;00m i\u001b[38;5;241m%\u001b[39m\u001b[38;5;241m2\u001b[39m\u001b[38;5;241m==\u001b[39m\u001b[38;5;241m0\u001b[39m:\n\u001b[0;32m----> 4\u001b[0m         \u001b[38;5;28;01mcontinue\u001b[39;00m\n\u001b[1;32m      5\u001b[0m     \u001b[38;5;28mprint\u001b[39m(i, end\u001b[38;5;241m=\u001b[39m \u001b[38;5;124m\"\u001b[39m\u001b[38;5;124m \u001b[39m\u001b[38;5;124m\"\u001b[39m)\n\u001b[1;32m      6\u001b[0m     i\u001b[38;5;241m+\u001b[39m\u001b[38;5;241m=\u001b[39m\u001b[38;5;241m1\u001b[39m\n",
      "\u001b[0;31mKeyboardInterrupt\u001b[0m: "
     ]
    }
   ],
   "source": [
    "i=1\n",
    "while i<11:\n",
    "    if i%2==0:\n",
    "        continue\n",
    "    print(i, end= \" \")\n",
    "    i+=1"
   ]
  },
  {
   "cell_type": "code",
   "execution_count": null,
   "metadata": {},
   "outputs": [],
   "source": [
    "# Inside a while loop a continue will not work. It will generate an infinite loop."
   ]
  },
  {
   "cell_type": "markdown",
   "metadata": {},
   "source": [
    "### consider a loop (while/for) that counts from 10 to 20 but prints only the even numbers in that range, use continue statement:"
   ]
  },
  {
   "cell_type": "code",
   "execution_count": null,
   "metadata": {},
   "outputs": [],
   "source": []
  },
  {
   "cell_type": "code",
   "execution_count": null,
   "metadata": {},
   "outputs": [],
   "source": []
  },
  {
   "cell_type": "markdown",
   "metadata": {},
   "source": [
    "### Avoiding Infinite Loops"
   ]
  },
  {
   "cell_type": "code",
   "execution_count": null,
   "metadata": {},
   "outputs": [],
   "source": []
  },
  {
   "cell_type": "code",
   "execution_count": null,
   "metadata": {},
   "outputs": [],
   "source": []
  },
  {
   "cell_type": "markdown",
   "metadata": {},
   "source": [
    "### Movie Tickets: A movie theater charges different ticket prices depending on a person’s age. \n",
    "- If a person is under the age of 3, the ticket is free; if they are between 3 and 12, the ticket is 10 dollar\n",
    "- if they are over age 12, the ticket is 15 dollar. \n",
    "Write a while loop in which you ask users their age, and then tell them the cost of their movie ticket."
   ]
  },
  {
   "cell_type": "code",
   "execution_count": 32,
   "metadata": {},
   "outputs": [
    {
     "name": "stdout",
     "output_type": "stream",
     "text": [
      "\n",
      " Enter your age for the cost of your movie ticket 12\n",
      "Your ticket is $10!\n"
     ]
    }
   ],
   "source": [
    "prompt=\"\\n Enter your age for the cost of your movie ticket \"\n",
    "age= \" \"\n",
    "active= True\n",
    "while active:\n",
    "    age=int(input(prompt))\n",
    "    if age<3:\n",
    "        print(\"Your ticket is free!\")\n",
    "        break\n",
    "    elif age>=3 and age <=12:\n",
    "        print(\"Your ticket is $10!\")\n",
    "        break\n",
    "    else:\n",
    "        print(\"Your ticket costs $15!\")\n"
   ]
  },
  {
   "cell_type": "code",
   "execution_count": null,
   "metadata": {},
   "outputs": [],
   "source": []
  },
  {
   "cell_type": "markdown",
   "metadata": {},
   "source": [
    "## Using a while Loop with Lists and Dictionaries"
   ]
  },
  {
   "cell_type": "code",
   "execution_count": null,
   "metadata": {},
   "outputs": [],
   "source": []
  },
  {
   "cell_type": "markdown",
   "metadata": {},
   "source": [
    "### Moving Items from One List to Another"
   ]
  },
  {
   "cell_type": "code",
   "execution_count": 6,
   "metadata": {},
   "outputs": [
    {
     "name": "stdout",
     "output_type": "stream",
     "text": [
      "Larry\n",
      "Marry\n",
      "Jerry\n",
      "Robert\n",
      "Final list: ['Larry', 'Marry', 'Jerry', 'Robert']\n",
      "Larry is my peer\n",
      "Marry is my peer\n",
      "Jerry is my peer\n",
      "Robert is my peer\n"
     ]
    }
   ],
   "source": [
    "# name of the friends move from friends list to peers list\n",
    "# unpack the list\n",
    "friends=['Robert','Jerry','Marry','Larry']\n",
    "peers=[]\n",
    "hold=\" \"\n",
    "while friends:\n",
    "    hold= friends.pop()\n",
    "    print(hold)\n",
    "    peers.append(hold)\n",
    "print(f\"Final list: {peers}\")\n",
    "\n",
    "# unpack the list\n",
    "for name in peers:\n",
    "    print(f\"{name} is my peer\")\n",
    "\n"
   ]
  },
  {
   "cell_type": "code",
   "execution_count": null,
   "metadata": {},
   "outputs": [],
   "source": []
  },
  {
   "cell_type": "markdown",
   "metadata": {},
   "source": [
    "### Removing All Instances of Specific Values from a List"
   ]
  },
  {
   "cell_type": "code",
   "execution_count": 14,
   "metadata": {},
   "outputs": [
    {
     "name": "stdout",
     "output_type": "stream",
     "text": [
      "['dog', 'cat', 'dog', 'goldfish', 'cat', 'rabbit', 'cat']\n",
      "New list: ['goldfish', 'rabbit']\n"
     ]
    }
   ],
   "source": [
    "pets=['dog','cat','dog','goldfish','cat','rabbit','cat']\n",
    "print(pets)\n",
    "# remove cats from the list\n",
    "while 'cat' in pets:\n",
    "    pets.remove('cat')\n",
    "while 'dog' in pets:\n",
    "        pets.remove('dog')\n",
    "print(f\"New list: {pets}\")"
   ]
  },
  {
   "cell_type": "markdown",
   "metadata": {},
   "source": [
    "# Shopping\n",
    "## create a grocery dictonary with 5 items and the quality \n",
    "- key is item name\n",
    "- value is quality"
   ]
  },
  {
   "cell_type": "code",
   "execution_count": 26,
   "metadata": {},
   "outputs": [
    {
     "name": "stdout",
     "output_type": "stream",
     "text": [
      "What would you like from the grocery store? butter\n",
      "How many of those items would you like? 9000\n",
      "{'butter': 9000}\n",
      "Would you like to add another entry? (yes/no) no\n",
      "{'butter': 9000}\n",
      "You asked for 9000 butter. \n"
     ]
    }
   ],
   "source": [
    "grocery={}\n",
    "active=True\n",
    "while active:\n",
    "    item=input(\"What would you like from the grocery store? \")\n",
    "    value=int(input(\"How many of those items would you like? \"))\n",
    "    grocery.update({item:value})\n",
    "    print(grocery)\n",
    "    repeat=input(\"Would you like to add another entry? (yes/no) \")\n",
    "    if repeat=='no':\n",
    "        active=False\n",
    "\n",
    "print(grocery)\n",
    "\n",
    "for item,value in grocery.items():\n",
    "    print(f\"You asked for {value} {item}. \")"
   ]
  },
  {
   "cell_type": "code",
   "execution_count": null,
   "metadata": {},
   "outputs": [],
   "source": []
  },
  {
   "cell_type": "markdown",
   "metadata": {},
   "source": [
    "### Filling a Dictionary with User Input"
   ]
  },
  {
   "cell_type": "markdown",
   "metadata": {},
   "source": [
    "#### asking the user to input their name as dictonary keys and their favourite food as dict values\n"
   ]
  },
  {
   "cell_type": "code",
   "execution_count": 18,
   "metadata": {},
   "outputs": [
    {
     "name": "stdout",
     "output_type": "stream",
     "text": [
      "What is your name? Jeremy \n",
      "What is your facourite food? crAB\n",
      "Would you like to enter another food? (yes/no)no\n",
      "{'Jeremy ': 'crAB'}\n",
      "Jeremy  love to eat crAB \n"
     ]
    }
   ],
   "source": [
    "response={}\n",
    "# poll is a flag\n",
    "poll=True\n",
    "while poll:\n",
    "    name= input(\"What is your name? \")\n",
    "    food= input(\"What is your facourite food? \")\n",
    "    # update method to add items to a dictonary\n",
    "    response.update({name:food})\n",
    "    repeat=input(\"Would you like to enter another food? (yes/no)\")\n",
    "    if repeat=='no':\n",
    "        poll=False\n",
    "        #BREAK\n",
    "print(response)\n",
    "# unpack the dictonary\n",
    "for name,food in response.items():\n",
    "    print(f'{name} love to eat {food} ')"
   ]
  },
  {
   "cell_type": "markdown",
   "metadata": {},
   "source": [
    "## Deli: Make a list called sandwich_orders and fill it with the names of various sandwiches. \n",
    "- Then make an empty list called finished_sandwiches. \n",
    "- Loop through the list of sandwich orders and print a message for each order, such as I made your tuna sandwich. \n",
    "- As each sandwich is made, move it to the list of finished sandwiches. \n",
    "- After all the sandwiches have been made, print a message listing each sandwich that was made."
   ]
  },
  {
   "cell_type": "code",
   "execution_count": 11,
   "metadata": {},
   "outputs": [
    {
     "name": "stdout",
     "output_type": "stream",
     "text": [
      "I made your Beef sub\n",
      "I made your Balogna sub\n",
      "I made your Turkey sub\n",
      "I made your Ham sub\n",
      "I made your BLT sub\n",
      "\n",
      "\n",
      "I made a Beef sub.\n",
      "I made a Balogna sub.\n",
      "I made a Turkey sub.\n",
      "I made a Ham sub.\n",
      "I made a BLT sub.\n"
     ]
    }
   ],
   "source": [
    "sandwich_orders=['BLT','Ham','Turkey','Balogna','Beef']\n",
    "finished_sandwiches=[]\n",
    "hold=\" \"\n",
    "while sandwich_orders:\n",
    "    hold=sandwich_orders.pop()\n",
    "    print(f\"I made your {hold} sub\")\n",
    "    finished_sandwiches.append(hold)\n",
    "    \n",
    "print(\"\\n\")\n",
    "for sandwich in finished_sandwiches:\n",
    "    print(\"I made a \"+sandwich+\" sub.\")"
   ]
  },
  {
   "cell_type": "code",
   "execution_count": null,
   "metadata": {},
   "outputs": [],
   "source": []
  },
  {
   "cell_type": "markdown",
   "metadata": {},
   "source": [
    "## Write a program to print n natural number in descending order using a while loop.\n"
   ]
  },
  {
   "cell_type": "code",
   "execution_count": 29,
   "metadata": {},
   "outputs": [
    {
     "name": "stdout",
     "output_type": "stream",
     "text": [
      "Enter the value of n: 20\n",
      "20\n",
      "19\n",
      "18\n",
      "17\n",
      "16\n",
      "15\n",
      "14\n",
      "13\n",
      "12\n",
      "11\n",
      "10\n",
      "9\n",
      "8\n",
      "7\n",
      "6\n",
      "5\n",
      "4\n",
      "3\n",
      "2\n",
      "1\n"
     ]
    }
   ],
   "source": [
    "n=int(input(\"Enter the value of n: \"))\n",
    "# loop will end at 0\n",
    "while n!=0:\n",
    "    print(n)\n",
    "    n=n-1"
   ]
  },
  {
   "cell_type": "code",
   "execution_count": null,
   "metadata": {},
   "outputs": [],
   "source": []
  },
  {
   "cell_type": "markdown",
   "metadata": {},
   "source": [
    "## Factorial of a number"
   ]
  },
  {
   "cell_type": "code",
   "execution_count": 20,
   "metadata": {},
   "outputs": [
    {
     "name": "stdout",
     "output_type": "stream",
     "text": [
      "Enter a number: 12\n",
      "The factorial of your number is 479001600.\n"
     ]
    }
   ],
   "source": [
    "# home \n",
    "number=int(input(\"Enter a number: \"))\n",
    "factorial =1\n",
    "while (number):\n",
    "    factorial = factorial * number\n",
    "    number -=1\n",
    "print(f\"The factorial of your number is {factorial}.\")"
   ]
  },
  {
   "cell_type": "code",
   "execution_count": null,
   "metadata": {},
   "outputs": [],
   "source": []
  },
  {
   "cell_type": "markdown",
   "metadata": {},
   "source": [
    "## Take 10 integers from keyboard using loop and print their sum and average value on the screen"
   ]
  },
  {
   "cell_type": "code",
   "execution_count": 2,
   "metadata": {},
   "outputs": [
    {
     "name": "stdout",
     "output_type": "stream",
     "text": [
      "Enter integer 1: 12\n",
      "Enter integer 2: 16\n",
      "Enter integer 3: 21\n",
      "Enter integer 4: 23\n",
      "Enter integer 5: 2\n",
      "Enter integer 6: 3\n",
      "Enter integer 7: 5\n",
      "Enter integer 8: 7\n",
      "Enter integer 9: 9\n",
      "Enter integer 10: -\n",
      "Invalid input. Please enter an integer.\n",
      "Sum of the numbers: 98\n",
      "Average of the numbers: 10.89\n"
     ]
    }
   ],
   "source": [
    "# homework\n",
    "sum_of_numbers = 0\n",
    "count = 0\n",
    "for i in range(10):\n",
    "    try:\n",
    "        num = int(input(f\"Enter integer {i + 1}: \"))\n",
    "        sum_of_numbers += num\n",
    "        count += 1\n",
    "    except ValueError:\n",
    "        print(\"Invalid input. Please enter an integer.\")\n",
    "if count > 0:\n",
    "    average = sum_of_numbers / count\n",
    "    print(f\"Sum of the numbers: {sum_of_numbers}\")\n",
    "    print(f\"Average of the numbers: {average:.2f}\")\n",
    "else:\n",
    "    print(\"No valid numbers were entered.\")\n",
    "\n"
   ]
  },
  {
   "cell_type": "code",
   "execution_count": null,
   "metadata": {},
   "outputs": [],
   "source": []
  },
  {
   "attachments": {
    "image.png": {
     "image/png": "[encoded data removed]"
    }
   },
   "cell_type": "markdown",
   "metadata": {},
   "source": [
    "## Print the following patterns using loop :\n",
    "![image.png](attachment:image.png)"
   ]
  },
  {
   "cell_type": "code",
   "execution_count": 4,
   "metadata": {},
   "outputs": [
    {
     "name": "stdout",
     "output_type": "stream",
     "text": [
      "*\n",
      "**\n",
      "***\n",
      "****\n"
     ]
    }
   ],
   "source": [
    "#print starts\n",
    "i=1\n",
    "while i<=4:\n",
    "    print(i*'*')\n",
    "    i+=1"
   ]
  },
  {
   "cell_type": "code",
   "execution_count": null,
   "metadata": {},
   "outputs": [],
   "source": []
  },
  {
   "cell_type": "code",
   "execution_count": null,
   "metadata": {},
   "outputs": [],
   "source": []
  },
  {
   "cell_type": "markdown",
   "metadata": {},
   "source": [
    "## Write a program to display the first 7 multiples of 7.\n"
   ]
  },
  {
   "cell_type": "code",
   "execution_count": 11,
   "metadata": {},
   "outputs": [
    {
     "name": "stdout",
     "output_type": "stream",
     "text": [
      "7 count 1\n",
      "14 count 2\n",
      "21 count 3\n",
      "28 count 4\n",
      "35 count 5\n",
      "42 count 6\n",
      "49 count 7\n"
     ]
    }
   ],
   "source": [
    "count=0\n",
    "for i in range (1,100):\n",
    "    if i%7==0:\n",
    "        print(i, end= \" \")\n",
    "        count=count+1\n",
    "        print(\"count\", count)\n",
    "        if count==7:\n",
    "            break"
   ]
  },
  {
   "cell_type": "markdown",
   "metadata": {},
   "source": [
    "## Write a program that appends the square of each number to a new list."
   ]
  },
  {
   "cell_type": "code",
   "execution_count": 15,
   "metadata": {},
   "outputs": [
    {
     "name": "stdout",
     "output_type": "stream",
     "text": [
      "[1, 4, 9, 16, 25]\n"
     ]
    }
   ],
   "source": [
    "x=[1,2,3,4,5]\n",
    "output=[]\n",
    "\n",
    "for i in x:\n",
    "    output.append(i**2)\n",
    "print(output)"
   ]
  },
  {
   "cell_type": "code",
   "execution_count": null,
   "metadata": {},
   "outputs": [],
   "source": []
  },
  {
   "cell_type": "markdown",
   "metadata": {},
   "source": [
    "## Separate positive and negative number from a list.\n",
    "x = [23,12,-4,23,-9,21,3,-45,-8]"
   ]
  },
  {
   "cell_type": "code",
   "execution_count": 18,
   "metadata": {},
   "outputs": [
    {
     "name": "stdout",
     "output_type": "stream",
     "text": [
      "the positive numbers: [23, 12, 23, 21, 3].\n",
      "the negative numbers: [-4, -9, -45, -8].\n"
     ]
    }
   ],
   "source": [
    "x = [23,12,-4,23,-9,21,3,-45,-8]\n",
    "positive=[]\n",
    "negative=[]\n",
    "for i in x:\n",
    "    if i <0:\n",
    "        negative.append(i)\n",
    "    else:\n",
    "        positive.append(i)\n",
    "print(f\"the positive numbers: {positive}.\")\n",
    "print(f\"the negative numbers: {negative}.\")"
   ]
  },
  {
   "cell_type": "code",
   "execution_count": null,
   "metadata": {},
   "outputs": [],
   "source": []
  }
 ],
 "metadata": {
  "celltoolbar": "Slideshow",
  "kernelspec": {
   "display_name": "Python 3 (ipykernel)",
   "language": "python",
   "name": "python3"
  },
  "language_info": {
   "codemirror_mode": {
    "name": "ipython",
    "version": 3
   },
   "file_extension": ".py",
   "mimetype": "text/x-python",
   "name": "python",
   "nbconvert_exporter": "python",
   "pygments_lexer": "ipython3",
   "version": "3.11.4"
  }
 },
 "nbformat": 4,
 "nbformat_minor": 2
}
