{
 "cells": [
  {
   "cell_type": "markdown",
   "id": "f020b4df",
   "metadata": {},
   "source": [
    "Create a list of 10 numbers and find out the minimum, maximum, and total (sum) of the list. \n"
   ]
  },
  {
   "cell_type": "code",
   "execution_count": 2,
   "id": "25ea3a3e",
   "metadata": {},
   "outputs": [
    {
     "name": "stdout",
     "output_type": "stream",
     "text": [
      "1\n",
      "10\n",
      "55\n"
     ]
    }
   ],
   "source": [
    "numbers=[1,2,3,4,5,6,7,8,9,10]\n",
    "print(min(numbers))\n",
    "print(max(numbers))\n",
    "print(sum(numbers))"
   ]
  },
  {
   "cell_type": "markdown",
   "id": "17232162",
   "metadata": {},
   "source": [
    "What is a nested If statement? Get input from a user and check whether the number is odd or not. If the number is odd it is also less than or equal to 20. If not, then print relevant information.\n"
   ]
  },
  {
   "cell_type": "code",
   "execution_count": 8,
   "id": "54091075",
   "metadata": {},
   "outputs": [
    {
     "name": "stdout",
     "output_type": "stream",
     "text": [
      "Enter a number: 11\n",
      "The number is odd and less than 20\n"
     ]
    }
   ],
   "source": [
    "number=int(input(\"Enter a number: \"))\n",
    "if number%2==1:\n",
    "    if number<=20:\n",
    "        print(\"The number is odd and less than 20\")\n",
    "    else:\n",
    "        print(\"The number is more than 20\")\n",
    "else:\n",
    "    print(\"The number is even\")"
   ]
  },
  {
   "cell_type": "markdown",
   "id": "bf2e09fd",
   "metadata": {},
   "source": [
    "Get a user input of an integer number and check if the given number is a multiple of 11 or not. \n"
   ]
  },
  {
   "cell_type": "code",
   "execution_count": 13,
   "id": "156479e4",
   "metadata": {},
   "outputs": [
    {
     "name": "stdout",
     "output_type": "stream",
     "text": [
      "enter an integer: 1\n",
      "1 is not a multiple of 11.\n"
     ]
    }
   ],
   "source": [
    "number=int(input(\"enter an integer: \"))\n",
    "if number % 11==0:\n",
    "    print(f\"{number} is a multiple of 11.\") \n",
    "else:\n",
    "    print(f\"{number} is not a multiple of 11.\") \n"
   ]
  },
  {
   "cell_type": "markdown",
   "id": "2f1e6892",
   "metadata": {},
   "source": [
    "How to add and remove values from a python list? Explain with examples. In each case, explain only one method.\n"
   ]
  },
  {
   "cell_type": "code",
   "execution_count": 17,
   "id": "4adb10e3",
   "metadata": {},
   "outputs": [
    {
     "name": "stdout",
     "output_type": "stream",
     "text": [
      "['Honda', 'Bmw', 'Toyota', 'Subaru']\n"
     ]
    }
   ],
   "source": [
    "cars = ['Honda', 'Bmw', 'Jeep', 'Toyota', 'Subaru']\n",
    "cars.remove('Jeep')\n",
    "print(cars)"
   ]
  },
  {
   "cell_type": "markdown",
   "id": "f910275f",
   "metadata": {},
   "source": [
    "In the United States, as of 1995, a minor is generally legally defined as a person under the age of 18. Write a code to check whether a student is a minor or not where the input will be given by users."
   ]
  },
  {
   "cell_type": "code",
   "execution_count": 21,
   "id": "34cc1211",
   "metadata": {},
   "outputs": [
    {
     "name": "stdout",
     "output_type": "stream",
     "text": [
      "What's your age? 12\n",
      "You're a minor\n"
     ]
    }
   ],
   "source": [
    "age = int(input(\"What's your age? \"))\n",
    "if age >= 18:\n",
    "    print(\"You're an adult\")\n",
    "else:\n",
    "    print(\"You're a minor\")\n"
   ]
  },
  {
   "cell_type": "markdown",
   "id": "17f2c49f",
   "metadata": {},
   "source": [
    "What is a dictionary in Python? How it is different from a List? Explain with an example.\n",
    "\n",
    "A dictonary in Python is a thing where you can write down keys and their values for different things like cars, and easlily look up or update the descriptions whenever you want. A list in Python is an ordered collection of elements, while a dictionary is a collection of key-value pairs, allowing you to associate values with unique keys for easy retrieval and mapping.\n"
   ]
  },
  {
   "cell_type": "code",
   "execution_count": 22,
   "id": "0a785ed3",
   "metadata": {},
   "outputs": [],
   "source": [
    "# example of list\n",
    "fruits_list = ['apple', 'banana', 'cherry']"
   ]
  },
  {
   "cell_type": "code",
   "execution_count": 24,
   "id": "84f2d65b",
   "metadata": {},
   "outputs": [],
   "source": [
    "# example of dictonary\n",
    "fruits_dict = {\n",
    "    'apple': 'red',\n",
    "    'banana': 'yellow',\n",
    "    'cherry': 'red'\n",
    "}"
   ]
  },
  {
   "cell_type": "markdown",
   "id": "5f69a5d0",
   "metadata": {},
   "source": [
    "What Is the Difference Between pop() and  remove() on Lists?\n",
    "\n",
    "remove gets rid of the first matching value while pop removes from an index and returns it"
   ]
  },
  {
   "cell_type": "markdown",
   "id": "c788508a",
   "metadata": {},
   "source": [
    "Write down a program using a for loop that prints all numbers from 1 to 15 and adds them to a list called numbers_list. \n",
    "numbers_list=[1,2,3,4,...15]"
   ]
  },
  {
   "cell_type": "code",
   "execution_count": 33,
   "id": "53c59dde",
   "metadata": {},
   "outputs": [
    {
     "name": "stdout",
     "output_type": "stream",
     "text": [
      "1\n",
      "2\n",
      "3\n",
      "4\n",
      "5\n",
      "6\n",
      "7\n",
      "8\n",
      "9\n",
      "10\n",
      "11\n",
      "12\n",
      "13\n",
      "14\n",
      "15\n",
      "The list is:  [1, 2, 3, 4, 5, 6, 7, 8, 9, 10, 11, 12, 13, 14, 15]\n"
     ]
    }
   ],
   "source": [
    "numbers_list = [] \n",
    "for i in range(1, 16): \n",
    "    print(i) \n",
    "    numbers_list.append(i)\n",
    "print(\"The list is: \",  numbers_list)"
   ]
  }
 ],
 "metadata": {
  "kernelspec": {
   "display_name": "Python 3 (ipykernel)",
   "language": "python",
   "name": "python3"
  },
  "language_info": {
   "codemirror_mode": {
    "name": "ipython",
    "version": 3
   },
   "file_extension": ".py",
   "mimetype": "text/x-python",
   "name": "python",
   "nbconvert_exporter": "python",
   "pygments_lexer": "ipython3",
   "version": "3.11.4"
  }
 },
 "nbformat": 4,
 "nbformat_minor": 5
}
