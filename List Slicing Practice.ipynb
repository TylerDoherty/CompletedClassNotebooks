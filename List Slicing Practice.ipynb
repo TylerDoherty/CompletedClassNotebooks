{
 "cells": [
  {
   "cell_type": "markdown",
   "id": "84114222",
   "metadata": {},
   "source": [
    "### Practice Questions on Lists\n",
    "(Submit the notebook on Moodle using Github along with the class notebook)"
   ]
  },
  {
   "cell_type": "markdown",
   "id": "0891df79",
   "metadata": {},
   "source": [
    "### numbers = [0, 1, 2, 3, 4, 5, 6, 7, 8, 9]\n",
    "1. Get the first three elements.\n",
    "2. Get elements from index 3 to 6 (inclusive).\n",
    "3. Get the last three elements.\n",
    "4. Get every second element from the list.\n",
    "5. Get a reverse of the list."
   ]
  },
  {
   "cell_type": "code",
   "execution_count": 1,
   "id": "5efba997",
   "metadata": {},
   "outputs": [],
   "source": [
    "numbers=[0,1,2,3,4,5,6,7,8,9]"
   ]
  },
  {
   "cell_type": "code",
   "execution_count": 3,
   "id": "2183500f",
   "metadata": {},
   "outputs": [
    {
     "name": "stdout",
     "output_type": "stream",
     "text": [
      "first three numbers: [0, 1, 2]\n"
     ]
    }
   ],
   "source": [
    "print(f\"first three numbers: {numbers[:3]}\")"
   ]
  },
  {
   "cell_type": "code",
   "execution_count": 5,
   "id": "149f9c63",
   "metadata": {},
   "outputs": [
    {
     "name": "stdout",
     "output_type": "stream",
     "text": [
      "3 to 6 index inclusive [3, 4, 5, 6]\n"
     ]
    }
   ],
   "source": [
    "print(f\"3 to 6 index inclusive {numbers[3:7]}\") # printing inclusive values you have to go one extra number higher"
   ]
  },
  {
   "cell_type": "code",
   "execution_count": 7,
   "id": "2c7577ad",
   "metadata": {},
   "outputs": [
    {
     "name": "stdout",
     "output_type": "stream",
     "text": [
      "last 3 numbers [7, 8, 9]\n"
     ]
    }
   ],
   "source": [
    "print(f\"last 3 numbers {numbers[-3:]}\")"
   ]
  },
  {
   "cell_type": "code",
   "execution_count": 8,
   "id": "9dd1a06c",
   "metadata": {},
   "outputs": [
    {
     "name": "stdout",
     "output_type": "stream",
     "text": [
      "every seccond elements [0, 2, 4, 6, 8]\n"
     ]
    }
   ],
   "source": [
    "print(f\"every seccond elements {numbers[::2]}\")"
   ]
  },
  {
   "cell_type": "code",
   "execution_count": 9,
   "id": "39ede83f",
   "metadata": {},
   "outputs": [
    {
     "name": "stdout",
     "output_type": "stream",
     "text": [
      "reverse : [9, 8, 7, 6, 5, 4, 3, 2, 1, 0]\n"
     ]
    }
   ],
   "source": [
    "print(f\"reverse : {numbers[::-1]}\")"
   ]
  },
  {
   "cell_type": "markdown",
   "id": "dcc22463",
   "metadata": {},
   "source": [
    "### letters = ['a', 'b', 'c', 'd', 'e', 'f', 'g', 'h', 'i', 'j']\n",
    "1. Get every second letter starting from the first letter.\n",
    "2. Get every third letter starting from the second letter.\n",
    "3. Get every fourth letter starting from the third letter."
   ]
  },
  {
   "cell_type": "code",
   "execution_count": 10,
   "id": "34576f2b",
   "metadata": {},
   "outputs": [],
   "source": [
    "letters = ['a', 'b', 'c', 'd', 'e', 'f', 'g', 'h', 'i', 'j']"
   ]
  },
  {
   "cell_type": "code",
   "execution_count": 11,
   "id": "7f3f0694",
   "metadata": {},
   "outputs": [
    {
     "name": "stdout",
     "output_type": "stream",
     "text": [
      "every seccond letter ['a', 'c', 'e', 'g', 'i']\n"
     ]
    }
   ],
   "source": [
    "print(f\"every seccond letter {letters[::2]}\")"
   ]
  },
  {
   "cell_type": "code",
   "execution_count": 13,
   "id": "38ed1c9e",
   "metadata": {},
   "outputs": [
    {
     "name": "stdout",
     "output_type": "stream",
     "text": [
      "every third letter starting from the seccond letter\n",
      "['b', 'e', 'h']\n"
     ]
    }
   ],
   "source": [
    "print(f\"every third letter starting from the seccond letter\")\n",
    "print(letters[1::3])"
   ]
  },
  {
   "cell_type": "code",
   "execution_count": 15,
   "id": "ce78ed9c",
   "metadata": {},
   "outputs": [
    {
     "name": "stdout",
     "output_type": "stream",
     "text": [
      "every fourth letter starting from 3rd letter\n",
      "['c', 'g']\n"
     ]
    }
   ],
   "source": [
    "print(f\"every fourth letter starting from 3rd letter\")\n",
    "print(letters[2::4])"
   ]
  },
  {
   "cell_type": "markdown",
   "id": "ee041ed9",
   "metadata": {},
   "source": [
    "### colors = ['red', 'green', 'blue', 'yellow', 'purple']\n",
    "1. Get the last two elements.\n",
    "2. Get elements from the third to the last element.\n",
    "3. Get a reverse of the list using negative indexing."
   ]
  },
  {
   "cell_type": "code",
   "execution_count": 30,
   "id": "0e5e09a0",
   "metadata": {},
   "outputs": [],
   "source": [
    "colors = ['red', 'green', 'blue', 'yellow', 'purple']"
   ]
  },
  {
   "cell_type": "code",
   "execution_count": 33,
   "id": "54a6f796",
   "metadata": {},
   "outputs": [
    {
     "name": "stdout",
     "output_type": "stream",
     "text": [
      "last 2 elements: ['yellow', 'purple']\n"
     ]
    }
   ],
   "source": [
    "print(f\"last 2 elements: {colors[-2:]}\")\n"
   ]
  },
  {
   "cell_type": "code",
   "execution_count": 23,
   "id": "c984bfca",
   "metadata": {},
   "outputs": [
    {
     "name": "stdout",
     "output_type": "stream",
     "text": [
      "elelments third to last: ['blue', 'yellow', 'purple']\n"
     ]
    }
   ],
   "source": [
    "print(f\"elelments third to last: {colors[2:]}\")"
   ]
  },
  {
   "cell_type": "code",
   "execution_count": 24,
   "id": "a44d2126",
   "metadata": {},
   "outputs": [
    {
     "name": "stdout",
     "output_type": "stream",
     "text": [
      "reverse the list with step of 2['purple', 'blue', 'red']\n"
     ]
    }
   ],
   "source": [
    "print(f\"reverse the list with step of 2{colors[::-2]}\")"
   ]
  },
  {
   "cell_type": "markdown",
   "id": "015a43d4",
   "metadata": {},
   "source": [
    "## Slicing Nested Lists\n",
    "### matrix = [[1, 2, 3], [4, 5, 6], [7, 8, 9]]\n",
    "1. Extract the second row (list [4, 5, 6]).\n",
    "2. Extract the number 2.\n",
    "3. Extract the number 9."
   ]
  },
  {
   "cell_type": "code",
   "execution_count": 32,
   "id": "b45aca96",
   "metadata": {},
   "outputs": [],
   "source": [
    "matrix = [[1, 2, 3], [4, 5, 6], [7, 8, 9]]"
   ]
  },
  {
   "cell_type": "code",
   "execution_count": 34,
   "id": "3cef0e46",
   "metadata": {},
   "outputs": [
    {
     "name": "stdout",
     "output_type": "stream",
     "text": [
      "Extract the second row: [4, 5, 6]\n"
     ]
    }
   ],
   "source": [
    "print(f\"Extract the second row: {matrix[1]}\")"
   ]
  },
  {
   "cell_type": "code",
   "execution_count": 37,
   "id": "f6912ee9",
   "metadata": {},
   "outputs": [
    {
     "name": "stdout",
     "output_type": "stream",
     "text": [
      "Extract the number 2: 2\n"
     ]
    }
   ],
   "source": [
    "print(f\"Extract the number 2: {matrix[0][1]}\")"
   ]
  },
  {
   "cell_type": "code",
   "execution_count": 38,
   "id": "2fd47d31",
   "metadata": {},
   "outputs": [
    {
     "name": "stdout",
     "output_type": "stream",
     "text": [
      "extract the number 9: 9\n"
     ]
    }
   ],
   "source": [
    "print(f\"extract the number 9: {matrix[2][2]}\")"
   ]
  },
  {
   "cell_type": "markdown",
   "id": "18beb315",
   "metadata": {},
   "source": [
    "### Matrix1=['Day',[23,45],'monday',[[12,13],[14,15]]]\n",
    "- print monday\n",
    "- print 13\n",
    "- print 15\n",
    "- print 45\n",
    "- print day"
   ]
  },
  {
   "cell_type": "code",
   "execution_count": 41,
   "id": "4f3daef8",
   "metadata": {},
   "outputs": [
    {
     "name": "stdout",
     "output_type": "stream",
     "text": [
      "['Day', [23, 45], 'monday', [[12, 13], [14, 15]]]\n"
     ]
    }
   ],
   "source": [
    "matrix1=['Day',[23,45],'monday',[[12,13],[14,15]]]\n",
    "print(matrix1)"
   ]
  },
  {
   "cell_type": "code",
   "execution_count": 42,
   "id": "4d2c9463",
   "metadata": {},
   "outputs": [
    {
     "name": "stdout",
     "output_type": "stream",
     "text": [
      "monday: monday\n"
     ]
    }
   ],
   "source": [
    "print(f'monday: {matrix1[2]}')"
   ]
  },
  {
   "cell_type": "code",
   "execution_count": 46,
   "id": "b2b4b6d1",
   "metadata": {},
   "outputs": [
    {
     "name": "stdout",
     "output_type": "stream",
     "text": [
      "13:  13\n"
     ]
    }
   ],
   "source": [
    "print(\"13: \",matrix1[3][0][1])"
   ]
  },
  {
   "cell_type": "code",
   "execution_count": 47,
   "id": "ddca8dd3",
   "metadata": {},
   "outputs": [
    {
     "name": "stdout",
     "output_type": "stream",
     "text": [
      "15:  15\n"
     ]
    }
   ],
   "source": [
    "print(\"15: \",matrix1[3][1][1])"
   ]
  },
  {
   "cell_type": "code",
   "execution_count": 48,
   "id": "aebabd75",
   "metadata": {},
   "outputs": [
    {
     "name": "stdout",
     "output_type": "stream",
     "text": [
      "45:  45\n"
     ]
    }
   ],
   "source": [
    "print(\"45: \",matrix1[1][1])"
   ]
  },
  {
   "cell_type": "code",
   "execution_count": 49,
   "id": "2b4a036b",
   "metadata": {},
   "outputs": [
    {
     "name": "stdout",
     "output_type": "stream",
     "text": [
      "Day:  Day\n"
     ]
    }
   ],
   "source": [
    "print(\"Day: \",matrix1[0])"
   ]
  },
  {
   "cell_type": "code",
   "execution_count": null,
   "id": "ab008b35",
   "metadata": {},
   "outputs": [],
   "source": []
  }
 ],
 "metadata": {
  "kernelspec": {
   "display_name": "Python 3 (ipykernel)",
   "language": "python",
   "name": "python3"
  },
  "language_info": {
   "codemirror_mode": {
    "name": "ipython",
    "version": 3
   },
   "file_extension": ".py",
   "mimetype": "text/x-python",
   "name": "python",
   "nbconvert_exporter": "python",
   "pygments_lexer": "ipython3",
   "version": "3.11.4"
  }
 },
 "nbformat": 4,
 "nbformat_minor": 5
}
