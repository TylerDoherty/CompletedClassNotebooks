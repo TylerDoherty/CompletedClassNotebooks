{
 "cells": [
  {
   "cell_type": "markdown",
   "id": "ad6b391a",
   "metadata": {},
   "source": [
    "### Lambda Function\n",
    "- A lambda function is a small anonymous function.\n",
    "\n",
    "- A lambda function can take any number of arguments, but can only have one expression."
   ]
  },
  {
   "cell_type": "markdown",
   "id": "4acee15b",
   "metadata": {},
   "source": [
    "### if you use a Python lambda construction `lambda argument(s) : expression`\n",
    "- lambda is a keyword in Python for defining the anonymous function.\n",
    "- argument(s) is a placeholder, that is a variable that will be used to hold the value you want to pass into the function expression. A lambda function can have multiple variables depending on what you want to achieve.\n",
    "= expression is the code you want to execute in the lambda function."
   ]
  },
  {
   "cell_type": "code",
   "execution_count": 3,
   "id": "f41a1aaf",
   "metadata": {},
   "outputs": [
    {
     "data": {
      "text/plain": [
       "4"
      ]
     },
     "execution_count": 3,
     "metadata": {},
     "output_type": "execute_result"
    }
   ],
   "source": [
    "def Identity(x):\n",
    "    return x\n",
    "Identity(4)"
   ]
  },
  {
   "cell_type": "code",
   "execution_count": 5,
   "id": "1b8b22dd",
   "metadata": {},
   "outputs": [
    {
     "data": {
      "text/plain": [
       "2"
      ]
     },
     "execution_count": 5,
     "metadata": {},
     "output_type": "execute_result"
    }
   ],
   "source": [
    "# function argument : return statment\n",
    "(lambda x: x)(2)"
   ]
  },
  {
   "cell_type": "code",
   "execution_count": 6,
   "id": "e3402e0b",
   "metadata": {},
   "outputs": [
    {
     "data": {
      "text/plain": [
       "6"
      ]
     },
     "execution_count": 6,
     "metadata": {},
     "output_type": "execute_result"
    }
   ],
   "source": [
    "(lambda x: x+1)(5)"
   ]
  },
  {
   "cell_type": "code",
   "execution_count": 7,
   "id": "04a6579f",
   "metadata": {},
   "outputs": [
    {
     "data": {
      "text/plain": [
       "900.0"
      ]
     },
     "execution_count": 7,
     "metadata": {},
     "output_type": "execute_result"
    }
   ],
   "source": [
    "import math\n",
    "(lambda y: math.pow(y,2))(30)"
   ]
  },
  {
   "cell_type": "code",
   "execution_count": null,
   "id": "4cb7fa60",
   "metadata": {},
   "outputs": [],
   "source": [
    "# as Labda is an expression, it can be named"
   ]
  },
  {
   "cell_type": "markdown",
   "id": "9cdbed87",
   "metadata": {},
   "source": [
    "### Common Use Cases for Lambda Functions\n",
    "- Lambda Function often use with Iterables\n",
    "- An iterable is essentially anything that consists of a series of values, such as characters, numbers, and so on.\n",
    "\n",
    "- In Python, iterables include strings, lists, dictionaries, ranges, tuples, and so on. \n",
    "- When working with iterables, you can use lambda functions in conjunction with two common functions: `filter()` and `map()`."
   ]
  },
  {
   "cell_type": "markdown",
   "id": "22f9e9de",
   "metadata": {},
   "source": [
    "#### Filter()\n",
    "- When you want to focus on specific values in an iterable, you can use the filter function. The following is the syntax of a filter function:\n",
    "- example, say I have a list such as [1, 2, 3, 4, 5, 6, 7, 8, 9, 10]. Now let's say that I’m only interested in those values in that list that have a remainder of 0 when divided by 2. I can make use of filter()"
   ]
  },
  {
   "cell_type": "code",
   "execution_count": null,
   "id": "124d83b4",
   "metadata": {},
   "outputs": [],
   "source": []
  },
  {
   "cell_type": "code",
   "execution_count": null,
   "id": "387475c3",
   "metadata": {},
   "outputs": [],
   "source": []
  },
  {
   "cell_type": "code",
   "execution_count": null,
   "id": "b8eaa1f4",
   "metadata": {},
   "outputs": [],
   "source": []
  },
  {
   "cell_type": "markdown",
   "id": "20c91164",
   "metadata": {},
   "source": [
    "#### Map() You use the map() function whenever you want to modify every value in an iterable.\n",
    "map(function, iterable)"
   ]
  },
  {
   "cell_type": "code",
   "execution_count": null,
   "id": "3c824636",
   "metadata": {},
   "outputs": [],
   "source": []
  },
  {
   "cell_type": "code",
   "execution_count": null,
   "id": "3e193dc9",
   "metadata": {},
   "outputs": [],
   "source": []
  },
  {
   "cell_type": "markdown",
   "id": "540a7ddb",
   "metadata": {},
   "source": [
    "### Examples"
   ]
  },
  {
   "cell_type": "code",
   "execution_count": null,
   "id": "259b4644",
   "metadata": {},
   "outputs": [],
   "source": []
  },
  {
   "cell_type": "code",
   "execution_count": null,
   "id": "7051e624",
   "metadata": {},
   "outputs": [],
   "source": []
  },
  {
   "cell_type": "code",
   "execution_count": null,
   "id": "e8cad207",
   "metadata": {},
   "outputs": [],
   "source": []
  },
  {
   "cell_type": "markdown",
   "id": "4c230a26",
   "metadata": {},
   "source": [
    "### Exception handling"
   ]
  },
  {
   "cell_type": "code",
   "execution_count": null,
   "id": "532e4fa7",
   "metadata": {},
   "outputs": [],
   "source": []
  },
  {
   "cell_type": "code",
   "execution_count": null,
   "id": "d9fcd153",
   "metadata": {},
   "outputs": [],
   "source": []
  },
  {
   "cell_type": "code",
   "execution_count": null,
   "id": "1ea2a63c",
   "metadata": {},
   "outputs": [],
   "source": []
  }
 ],
 "metadata": {
  "kernelspec": {
   "display_name": "Python 3 (ipykernel)",
   "language": "python",
   "name": "python3"
  },
  "language_info": {
   "codemirror_mode": {
    "name": "ipython",
    "version": 3
   },
   "file_extension": ".py",
   "mimetype": "text/x-python",
   "name": "python",
   "nbconvert_exporter": "python",
   "pygments_lexer": "ipython3",
   "version": "3.11.4"
  }
 },
 "nbformat": 4,
 "nbformat_minor": 5
}
